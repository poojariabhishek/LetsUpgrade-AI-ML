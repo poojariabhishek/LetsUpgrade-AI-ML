{
 "cells": [
  {
   "cell_type": "markdown",
   "metadata": {},
   "source": [
    "# Assignment Day 15"
   ]
  },
  {
   "cell_type": "code",
   "execution_count": 1,
   "metadata": {},
   "outputs": [],
   "source": [
    "import numpy as np"
   ]
  },
  {
   "cell_type": "markdown",
   "metadata": {},
   "source": [
    "# 1. Create a 3x3x3 array with random values "
   ]
  },
  {
   "cell_type": "code",
   "execution_count": 2,
   "metadata": {},
   "outputs": [
    {
     "name": "stdout",
     "output_type": "stream",
     "text": [
      "[[[0.95193494 0.68948634 0.76483984]\n",
      "  [0.14050389 0.76319882 0.45230076]\n",
      "  [0.79885682 0.86530752 0.53221206]]\n",
      "\n",
      " [[0.14491426 0.18020097 0.99783192]\n",
      "  [0.81186202 0.54029938 0.45442375]\n",
      "  [0.98812158 0.5784317  0.08522539]]\n",
      "\n",
      " [[0.59194072 0.41939301 0.25394592]\n",
      "  [0.60983786 0.66001217 0.84155255]\n",
      "  [0.78966218 0.30936519 0.81945124]]]\n"
     ]
    }
   ],
   "source": [
    "randomm = np.random.rand(3,3,3)\n",
    "print(randomm)"
   ]
  },
  {
   "cell_type": "markdown",
   "metadata": {},
   "source": [
    "# 2.Create a 5x5 matrix with values 1,2,3,4 just below the diagonal"
   ]
  },
  {
   "cell_type": "code",
   "execution_count": 17,
   "metadata": {},
   "outputs": [
    {
     "name": "stdout",
     "output_type": "stream",
     "text": [
      "\n",
      "[[0 0 0 0 0]\n",
      " [1 0 0 0 0]\n",
      " [0 2 0 0 0]\n",
      " [0 0 3 0 0]\n",
      " [0 0 0 4 0]]\n"
     ]
    }
   ],
   "source": [
    "ran = np.diag(np.arange(4) + 1, k = -1)\n",
    "\n",
    "print(ran)"
   ]
  },
  {
   "cell_type": "markdown",
   "metadata": {},
   "source": [
    "# 3.Create a 8x8 matrix and fill it with a checkerboard pattern"
   ]
  },
  {
   "cell_type": "code",
   "execution_count": 18,
   "metadata": {},
   "outputs": [
    {
     "name": "stdout",
     "output_type": "stream",
     "text": [
      "[[0 1 0 1 0 1 0 1]\n",
      " [1 0 1 0 1 0 1 0]\n",
      " [0 1 0 1 0 1 0 1]\n",
      " [1 0 1 0 1 0 1 0]\n",
      " [0 1 0 1 0 1 0 1]\n",
      " [1 0 1 0 1 0 1 0]\n",
      " [0 1 0 1 0 1 0 1]\n",
      " [1 0 1 0 1 0 1 0]]\n"
     ]
    }
   ],
   "source": [
    "ran = np.tile(np.array([[0,1],[1,0]]), (4,4))\n",
    "print(ran)"
   ]
  },
  {
   "cell_type": "markdown",
   "metadata": {},
   "source": [
    "# 4. Normalize a 5x5 random matrix"
   ]
  },
  {
   "cell_type": "code",
   "execution_count": 20,
   "metadata": {},
   "outputs": [
    {
     "data": {
      "text/plain": [
       "array([[ 0.55395629, -0.96006238,  1.21223682, -0.30079721,  0.2860502 ],\n",
       "       [ 0.6414718 , -0.33966994, -0.13484072,  0.04820679,  1.22296495],\n",
       "       [-1.07237974,  1.06935304, -1.3496223 ,  0.06812343,  0.70543062],\n",
       "       [ 1.57697296, -0.51647694, -1.3918106 , -0.09003726,  1.51372873],\n",
       "       [ 1.56108397, -1.45074132, -1.45122809, -1.35238778, -0.04952529]])"
      ]
     },
     "execution_count": 20,
     "metadata": {},
     "output_type": "execute_result"
    }
   ],
   "source": [
    "ran = np.random.random((5,5))\n",
    "ran = (ran - np.mean (ran)) / (np.std (ran))\n",
    "ran"
   ]
  },
  {
   "cell_type": "markdown",
   "metadata": {},
   "source": [
    "# 5.  How to find common values between two arrays?"
   ]
  },
  {
   "cell_type": "code",
   "execution_count": 21,
   "metadata": {},
   "outputs": [
    {
     "data": {
      "text/plain": [
       "array([0, 1, 3, 7])"
      ]
     },
     "execution_count": 21,
     "metadata": {},
     "output_type": "execute_result"
    }
   ],
   "source": [
    "ran1 = np.random.randint(0,10,10)\n",
    "ran2 = np.random.randint(0,10,10)\n",
    "\n",
    "np.intersect1d(ran1, ran2)"
   ]
  },
  {
   "cell_type": "markdown",
   "metadata": {},
   "source": [
    "# 6.How to get the dates of yesterday, today and tomorrow?"
   ]
  },
  {
   "cell_type": "code",
   "execution_count": 22,
   "metadata": {},
   "outputs": [
    {
     "name": "stdout",
     "output_type": "stream",
     "text": [
      "yesterday date : 2020-07-25\n",
      "Today date :  2020-07-25\n",
      "Tomorrow date :  2020-07-25\n"
     ]
    }
   ],
   "source": [
    "yesterday = np.datetime64('today') - np.timedelta64(1)\n",
    "today     = np.datetime64('today')\n",
    "tomorrow  = np.datetime64('today') + np.timedelta64(1)\n",
    "print(\"yesterday date :\",yesterday)\n",
    "print(\"Today date : \" ,yesterday)\n",
    "print(\"Tomorrow date : \",yesterday)"
   ]
  },
  {
   "cell_type": "markdown",
   "metadata": {},
   "source": [
    "# 7. Consider two random array A and B, check if they are equal"
   ]
  },
  {
   "cell_type": "code",
   "execution_count": 25,
   "metadata": {},
   "outputs": [
    {
     "name": "stdout",
     "output_type": "stream",
     "text": [
      "Array1:\n",
      "[[0.54408104 0.98701399 0.78820237 0.93025225]\n",
      " [0.38874911 0.27959065 0.43423859 0.69321585]\n",
      " [0.91590793 0.03684664 0.77044566 0.60116248]\n",
      " [0.96579257 0.14306402 0.83908758 0.75458834]]\n",
      "\n",
      "Array2:\n",
      "[[0.40211529 0.01877051]\n",
      " [0.19415885 0.78586328]]\n",
      "\n",
      "Equality: False\n"
     ]
    }
   ],
   "source": [
    "ran1 = np.random.rand(4,4)\n",
    "ran2 = np.random.rand(2,2)\n",
    "\n",
    "equal = np.array_equal(ran1,ran2)\n",
    "print(f'Array1:\\n{ran1}\\n')\n",
    "print(f'Array2:\\n{ran2}\\n')\n",
    "print(f'Equality: {equal}')"
   ]
  },
  {
   "cell_type": "markdown",
   "metadata": {},
   "source": [
    "# 8.Create random vector of size 10 and replace the maximum value by 0 "
   ]
  },
  {
   "cell_type": "code",
   "execution_count": 26,
   "metadata": {},
   "outputs": [
    {
     "name": "stdout",
     "output_type": "stream",
     "text": [
      "[0.45420107 0.62315637 0.25501513 0.         0.11945371 0.59994214\n",
      " 0.22915588 0.80260857 0.36626739 0.19084476]\n"
     ]
    }
   ],
   "source": [
    "ran = np.random.rand(10)\n",
    "ran[ran.argmax()] = 0\n",
    "print(ran)"
   ]
  },
  {
   "cell_type": "markdown",
   "metadata": {},
   "source": [
    "# 9. How to print all the values of an array?"
   ]
  },
  {
   "cell_type": "code",
   "execution_count": 10,
   "metadata": {},
   "outputs": [
    {
     "name": "stdout",
     "output_type": "stream",
     "text": [
      "[[1. 1. 1. 1. 1. 1. 1. 1. 1. 1.]\n",
      " [1. 1. 1. 1. 1. 1. 1. 1. 1. 1.]\n",
      " [1. 1. 1. 1. 1. 1. 1. 1. 1. 1.]\n",
      " [1. 1. 1. 1. 1. 1. 1. 1. 1. 1.]\n",
      " [1. 1. 1. 1. 1. 1. 1. 1. 1. 1.]\n",
      " [1. 1. 1. 1. 1. 1. 1. 1. 1. 1.]\n",
      " [1. 1. 1. 1. 1. 1. 1. 1. 1. 1.]\n",
      " [1. 1. 1. 1. 1. 1. 1. 1. 1. 1.]\n",
      " [1. 1. 1. 1. 1. 1. 1. 1. 1. 1.]\n",
      " [1. 1. 1. 1. 1. 1. 1. 1. 1. 1.]]\n"
     ]
    }
   ],
   "source": [
    "ran = np.ones((10, 10))\n",
    "print(ran)"
   ]
  },
  {
   "cell_type": "markdown",
   "metadata": {},
   "source": [
    "# 10.Subtract the mean of each row of a matrix"
   ]
  },
  {
   "cell_type": "code",
   "execution_count": 28,
   "metadata": {},
   "outputs": [
    {
     "name": "stdout",
     "output_type": "stream",
     "text": [
      "[[ 0.27201754 -0.10580711 -0.16621043]\n",
      " [ 0.23663994 -0.07948713 -0.15715281]\n",
      " [ 0.37673254  0.05011581 -0.42684835]]\n"
     ]
    }
   ],
   "source": [
    "ran = np.random.rand(3,3)\n",
    "ran_mean = ran - ran.mean(axis=1, keepdims=True)\n",
    "\n",
    "print(ran_mean)"
   ]
  },
  {
   "cell_type": "markdown",
   "metadata": {},
   "source": [
    "# 11.Consider a given vector, how to add 1 to each element indexed by a second vector (be careful with repeated indices)? "
   ]
  },
  {
   "cell_type": "code",
   "execution_count": 29,
   "metadata": {},
   "outputs": [
    {
     "data": {
      "text/plain": [
       "array([5., 2., 2., 1., 5.])"
      ]
     },
     "execution_count": 29,
     "metadata": {},
     "output_type": "execute_result"
    }
   ],
   "source": [
    "ran1 = np.ones(5)\n",
    "ran2 = np.random.randint(0, len(ran1), 10)\n",
    "ran1 += np.bincount(ran2, minlength = len(ran1))\n",
    "ran1"
   ]
  },
  {
   "cell_type": "markdown",
   "metadata": {},
   "source": [
    "# 12.How to get the diagonal of a dot product?"
   ]
  },
  {
   "cell_type": "code",
   "execution_count": 13,
   "metadata": {},
   "outputs": [
    {
     "data": {
      "text/plain": [
       "array([ 0, 45, 29])"
      ]
     },
     "execution_count": 13,
     "metadata": {},
     "output_type": "execute_result"
    }
   ],
   "source": [
    "\n",
    "arr1 = np.random.randint(0,10,(3,3))\n",
    "arr2 = np.random.randint(0,10,(3,3))\n",
    "\n",
    "np.einsum(\"ij,ji->i\", arr1, arr2)"
   ]
  },
  {
   "cell_type": "markdown",
   "metadata": {},
   "source": [
    "# 13.How to find the most frequent value in an array?"
   ]
  },
  {
   "cell_type": "code",
   "execution_count": 34,
   "metadata": {},
   "outputs": [
    {
     "name": "stdout",
     "output_type": "stream",
     "text": [
      "[17 15 15 11 12 12 18 15 13 18 19 10 14 19 10 18 12 10 13 15 17 14 17 13\n",
      " 18 11 14 10 17 18]\n"
     ]
    },
    {
     "data": {
      "text/plain": [
       "18"
      ]
     },
     "execution_count": 34,
     "metadata": {},
     "output_type": "execute_result"
    }
   ],
   "source": [
    "\n",
    "ran= np.random.randint(10,20,30)\n",
    "print(ran)\n",
    "max(set(ran), key = list(ran).count)"
   ]
  },
  {
   "cell_type": "markdown",
   "metadata": {},
   "source": [
    "# 14.How to get the n largest values of an array"
   ]
  },
  {
   "cell_type": "code",
   "execution_count": 35,
   "metadata": {},
   "outputs": [
    {
     "data": {
      "text/plain": [
       "23"
      ]
     },
     "execution_count": 35,
     "metadata": {},
     "output_type": "execute_result"
    }
   ],
   "source": [
    "\n",
    "ran = np.random.randint(20,30,100)\n",
    "np.bincount(ran).argmax()"
   ]
  },
  {
   "cell_type": "markdown",
   "metadata": {},
   "source": [
    "# 15.How to create a record array from a regular array?"
   ]
  },
  {
   "cell_type": "code",
   "execution_count": 40,
   "metadata": {},
   "outputs": [
    {
     "name": "stdout",
     "output_type": "stream",
     "text": [
      "('Happy', 23, 'u')\n",
      "('Learning', 55, 'r')\n",
      "('LetsUpgrade', 110, 'l')\n"
     ]
    }
   ],
   "source": [
    "a = np.array(['Happy','Learning','LetsUpgrade'])\n",
    "b = np.array([23,55,110])\n",
    "c = np.array(['u','r','l'])\n",
    "records= np.core.records.fromarrays([a, b, c])\n",
    "print(records[0])\n",
    "print(records[1])\n",
    "print(records[2])"
   ]
  }
 ],
 "metadata": {
  "kernelspec": {
   "display_name": "Python 3",
   "language": "python",
   "name": "python3"
  },
  "language_info": {
   "codemirror_mode": {
    "name": "ipython",
    "version": 3
   },
   "file_extension": ".py",
   "mimetype": "text/x-python",
   "name": "python",
   "nbconvert_exporter": "python",
   "pygments_lexer": "ipython3",
   "version": "3.7.6"
  }
 },
 "nbformat": 4,
 "nbformat_minor": 2
}
