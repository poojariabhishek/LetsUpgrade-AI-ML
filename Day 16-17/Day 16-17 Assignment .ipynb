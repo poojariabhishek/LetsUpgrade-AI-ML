{
 "cells": [
  {
   "cell_type": "markdown",
   "metadata": {},
   "source": [
    "# Assignment Day 16-17"
   ]
  },
  {
   "cell_type": "code",
   "execution_count": 3,
   "metadata": {},
   "outputs": [],
   "source": [
    "%matplotlib inline\n",
    "import pandas as pd"
   ]
  },
  {
   "cell_type": "markdown",
   "metadata": {},
   "source": [
    "from IPython.core.display import HTML<br>\n",
    "css = open('style-table.css').read() + open('style-notebook.css').read(<br>\n",
    "HTML('<style>{}</style>'.format(css))<br>"
   ]
  },
  {
   "cell_type": "code",
   "execution_count": 50,
   "metadata": {},
   "outputs": [
    {
     "data": {
      "text/html": [
       "<div>\n",
       "<style scoped>\n",
       "    .dataframe tbody tr th:only-of-type {\n",
       "        vertical-align: middle;\n",
       "    }\n",
       "\n",
       "    .dataframe tbody tr th {\n",
       "        vertical-align: top;\n",
       "    }\n",
       "\n",
       "    .dataframe thead th {\n",
       "        text-align: right;\n",
       "    }\n",
       "</style>\n",
       "<table border=\"1\" class=\"dataframe\">\n",
       "  <thead>\n",
       "    <tr style=\"text-align: right;\">\n",
       "      <th></th>\n",
       "      <th>title</th>\n",
       "      <th>year</th>\n",
       "    </tr>\n",
       "  </thead>\n",
       "  <tbody>\n",
       "    <tr>\n",
       "      <th>0</th>\n",
       "      <td>Tasveer Mere Sanam</td>\n",
       "      <td>1996</td>\n",
       "    </tr>\n",
       "    <tr>\n",
       "      <th>1</th>\n",
       "      <td>Only You</td>\n",
       "      <td>1994</td>\n",
       "    </tr>\n",
       "    <tr>\n",
       "      <th>2</th>\n",
       "      <td>El pueblo del terror</td>\n",
       "      <td>1970</td>\n",
       "    </tr>\n",
       "    <tr>\n",
       "      <th>3</th>\n",
       "      <td>Machine</td>\n",
       "      <td>2007</td>\n",
       "    </tr>\n",
       "    <tr>\n",
       "      <th>4</th>\n",
       "      <td>MARy</td>\n",
       "      <td>2008</td>\n",
       "    </tr>\n",
       "  </tbody>\n",
       "</table>\n",
       "</div>"
      ],
      "text/plain": [
       "                  title  year\n",
       "0    Tasveer Mere Sanam  1996\n",
       "1              Only You  1994\n",
       "2  El pueblo del terror  1970\n",
       "3               Machine  2007\n",
       "4                  MARy  2008"
      ]
     },
     "execution_count": 50,
     "metadata": {},
     "output_type": "execute_result"
    }
   ],
   "source": [
    "titles = pd.read_csv('data/titles.csv')\n",
    "titles.head()"
   ]
  },
  {
   "cell_type": "code",
   "execution_count": 5,
   "metadata": {},
   "outputs": [
    {
     "data": {
      "text/html": [
       "<div>\n",
       "<style scoped>\n",
       "    .dataframe tbody tr th:only-of-type {\n",
       "        vertical-align: middle;\n",
       "    }\n",
       "\n",
       "    .dataframe tbody tr th {\n",
       "        vertical-align: top;\n",
       "    }\n",
       "\n",
       "    .dataframe thead th {\n",
       "        text-align: right;\n",
       "    }\n",
       "</style>\n",
       "<table border=\"1\" class=\"dataframe\">\n",
       "  <thead>\n",
       "    <tr style=\"text-align: right;\">\n",
       "      <th></th>\n",
       "      <th>title</th>\n",
       "      <th>year</th>\n",
       "      <th>country</th>\n",
       "      <th>date</th>\n",
       "    </tr>\n",
       "  </thead>\n",
       "  <tbody>\n",
       "    <tr>\n",
       "      <th>0</th>\n",
       "      <td>#73, Shaanthi Nivaasa</td>\n",
       "      <td>2007</td>\n",
       "      <td>India</td>\n",
       "      <td>2007-06-15</td>\n",
       "    </tr>\n",
       "    <tr>\n",
       "      <th>1</th>\n",
       "      <td>#BKKY</td>\n",
       "      <td>2016</td>\n",
       "      <td>Cambodia</td>\n",
       "      <td>2017-10-12</td>\n",
       "    </tr>\n",
       "    <tr>\n",
       "      <th>2</th>\n",
       "      <td>#Beings</td>\n",
       "      <td>2015</td>\n",
       "      <td>Romania</td>\n",
       "      <td>2015-01-29</td>\n",
       "    </tr>\n",
       "    <tr>\n",
       "      <th>3</th>\n",
       "      <td>#Captured</td>\n",
       "      <td>2017</td>\n",
       "      <td>USA</td>\n",
       "      <td>2017-09-05</td>\n",
       "    </tr>\n",
       "    <tr>\n",
       "      <th>4</th>\n",
       "      <td>#Ewankosau saranghaeyo</td>\n",
       "      <td>2015</td>\n",
       "      <td>Philippines</td>\n",
       "      <td>2015-01-21</td>\n",
       "    </tr>\n",
       "  </tbody>\n",
       "</table>\n",
       "</div>"
      ],
      "text/plain": [
       "                    title  year      country        date\n",
       "0   #73, Shaanthi Nivaasa  2007        India  2007-06-15\n",
       "1                   #BKKY  2016     Cambodia  2017-10-12\n",
       "2                 #Beings  2015      Romania  2015-01-29\n",
       "3               #Captured  2017          USA  2017-09-05\n",
       "4  #Ewankosau saranghaeyo  2015  Philippines  2015-01-21"
      ]
     },
     "execution_count": 5,
     "metadata": {},
     "output_type": "execute_result"
    }
   ],
   "source": [
    " rd= pd.read_csv('data/release_dates.csv')\n",
    "rd.head()\n"
   ]
  },
  {
   "cell_type": "code",
   "execution_count": 6,
   "metadata": {},
   "outputs": [
    {
     "data": {
      "text/html": [
       "<div>\n",
       "<style scoped>\n",
       "    .dataframe tbody tr th:only-of-type {\n",
       "        vertical-align: middle;\n",
       "    }\n",
       "\n",
       "    .dataframe tbody tr th {\n",
       "        vertical-align: top;\n",
       "    }\n",
       "\n",
       "    .dataframe thead th {\n",
       "        text-align: right;\n",
       "    }\n",
       "</style>\n",
       "<table border=\"1\" class=\"dataframe\">\n",
       "  <thead>\n",
       "    <tr style=\"text-align: right;\">\n",
       "      <th></th>\n",
       "      <th>title</th>\n",
       "      <th>year</th>\n",
       "      <th>name</th>\n",
       "      <th>type</th>\n",
       "      <th>character</th>\n",
       "      <th>n</th>\n",
       "    </tr>\n",
       "  </thead>\n",
       "  <tbody>\n",
       "    <tr>\n",
       "      <th>0</th>\n",
       "      <td>Closet Monster</td>\n",
       "      <td>2015</td>\n",
       "      <td>Buffy #1</td>\n",
       "      <td>actor</td>\n",
       "      <td>Buffy 4</td>\n",
       "      <td>31.0</td>\n",
       "    </tr>\n",
       "    <tr>\n",
       "      <th>1</th>\n",
       "      <td>Suuri illusioni</td>\n",
       "      <td>1985</td>\n",
       "      <td>Homo $</td>\n",
       "      <td>actor</td>\n",
       "      <td>Guests</td>\n",
       "      <td>22.0</td>\n",
       "    </tr>\n",
       "    <tr>\n",
       "      <th>2</th>\n",
       "      <td>Battle of the Sexes</td>\n",
       "      <td>2017</td>\n",
       "      <td>$hutter</td>\n",
       "      <td>actor</td>\n",
       "      <td>Bobby Riggs Fan</td>\n",
       "      <td>10.0</td>\n",
       "    </tr>\n",
       "    <tr>\n",
       "      <th>3</th>\n",
       "      <td>Secret in Their Eyes</td>\n",
       "      <td>2015</td>\n",
       "      <td>$hutter</td>\n",
       "      <td>actor</td>\n",
       "      <td>2002 Dodger Fan</td>\n",
       "      <td>NaN</td>\n",
       "    </tr>\n",
       "    <tr>\n",
       "      <th>4</th>\n",
       "      <td>Steve Jobs</td>\n",
       "      <td>2015</td>\n",
       "      <td>$hutter</td>\n",
       "      <td>actor</td>\n",
       "      <td>1988 Opera House Patron</td>\n",
       "      <td>NaN</td>\n",
       "    </tr>\n",
       "  </tbody>\n",
       "</table>\n",
       "</div>"
      ],
      "text/plain": [
       "                  title  year      name   type                character     n\n",
       "0        Closet Monster  2015  Buffy #1  actor                  Buffy 4  31.0\n",
       "1       Suuri illusioni  1985    Homo $  actor                   Guests  22.0\n",
       "2   Battle of the Sexes  2017   $hutter  actor          Bobby Riggs Fan  10.0\n",
       "3  Secret in Their Eyes  2015   $hutter  actor          2002 Dodger Fan   NaN\n",
       "4            Steve Jobs  2015   $hutter  actor  1988 Opera House Patron   NaN"
      ]
     },
     "execution_count": 6,
     "metadata": {},
     "output_type": "execute_result"
    }
   ],
   "source": [
    "cast= pd.read_csv('data/cast.csv')\n",
    "cast.head()"
   ]
  },
  {
   "cell_type": "markdown",
   "metadata": {
    "collapsed": true
   },
   "source": [
    "### How many movies are listed in the titles dataframe?"
   ]
  },
  {
   "cell_type": "code",
   "execution_count": 15,
   "metadata": {},
   "outputs": [
    {
     "name": "stdout",
     "output_type": "stream",
     "text": [
      "244914 movies are listed in the the titles dataframe\n"
     ]
    }
   ],
   "source": [
    "data=titles.title.count()\n",
    "print(data,\"movies are listed in the the titles dataframe\")"
   ]
  },
  {
   "cell_type": "markdown",
   "metadata": {
    "collapsed": true
   },
   "source": [
    "### What are the earliest two films listed in the titles dataframe?"
   ]
  },
  {
   "cell_type": "code",
   "execution_count": 20,
   "metadata": {},
   "outputs": [
    {
     "name": "stdout",
     "output_type": "stream",
     "text": [
      " Earliest two films listed in the titles dataframe are :\n",
      "\n",
      "                      title  year\n",
      "193222          Miss Jerry  1894\n",
      "51388   The Startled Lover  1898\n"
     ]
    }
   ],
   "source": [
    "data=titles.sort_values(\"year\").head(2)\n",
    "print(\" Earliest two films listed in the titles dataframe are :\\n\\n\",data)"
   ]
  },
  {
   "cell_type": "markdown",
   "metadata": {
    "collapsed": true
   },
   "source": [
    "### How many movies have the title \"Hamlet\"?"
   ]
  },
  {
   "cell_type": "code",
   "execution_count": 25,
   "metadata": {},
   "outputs": [
    {
     "name": "stdout",
     "output_type": "stream",
     "text": [
      "20 number of movies have title 'Hamlet'\n"
     ]
    }
   ],
   "source": [
    "data=titles[titles[\"title\"]==\"Hamlet\"][\"title\"].count()\n",
    "print(data, \"number of movies have title 'Hamlet'\")"
   ]
  },
  {
   "cell_type": "markdown",
   "metadata": {
    "collapsed": true
   },
   "source": [
    "### How many movies are titled \"North by Northwest\"?"
   ]
  },
  {
   "cell_type": "code",
   "execution_count": 30,
   "metadata": {},
   "outputs": [
    {
     "name": "stdout",
     "output_type": "stream",
     "text": [
      "1 number of movies have title 'North by Northwest' \n"
     ]
    }
   ],
   "source": [
    "data=len(titles[titles.title==\"North by Northwest\"])\n",
    "print(data, \"number of movies have title 'North by Northwest' \")"
   ]
  },
  {
   "cell_type": "markdown",
   "metadata": {
    "collapsed": true
   },
   "source": [
    "### When was the first movie titled \"Hamlet\" made?"
   ]
  },
  {
   "cell_type": "code",
   "execution_count": 36,
   "metadata": {},
   "outputs": [
    {
     "name": "stdout",
     "output_type": "stream",
     "text": [
      " first movie titled Hamlet was  made are as follow:\n",
      "\n",
      "         title  year\n",
      "52521  Hamlet  1910\n"
     ]
    }
   ],
   "source": [
    "data=titles[titles.title==\"Hamlet\"].sort_values(\"year\").head(1)\n",
    "print(\" first movie titled Hamlet was  made are as follow:\\n\\n\",data)"
   ]
  },
  {
   "cell_type": "markdown",
   "metadata": {
    "collapsed": true
   },
   "source": [
    "### List all of the \"Treasure Island\" movies from earliest to most recent."
   ]
  },
  {
   "cell_type": "code",
   "execution_count": 37,
   "metadata": {},
   "outputs": [
    {
     "name": "stdout",
     "output_type": "stream",
     "text": [
      " List all of the Treasure Island movies from earliest to most recent are as follow:\n",
      "\n",
      "                   title  year\n",
      "55686   Treasure Island  1918\n",
      "196514  Treasure Island  1920\n",
      "141822  Treasure Island  1934\n",
      "77354   Treasure Island  1950\n",
      "65051   Treasure Island  1972\n",
      "37238   Treasure Island  1973\n",
      "173051  Treasure Island  1985\n",
      "27076   Treasure Island  1999\n"
     ]
    }
   ],
   "source": [
    "data=titles[titles.title==\"Treasure Island\"].sort_values(\"year\")\n",
    "print(\" List all of the Treasure Island movies from earliest to most recent are as follow:\\n\\n\",data)"
   ]
  },
  {
   "cell_type": "markdown",
   "metadata": {
    "collapsed": true
   },
   "source": [
    "### How many movies were made in the year 1950?"
   ]
  },
  {
   "cell_type": "code",
   "execution_count": 40,
   "metadata": {},
   "outputs": [
    {
     "name": "stdout",
     "output_type": "stream",
     "text": [
      "1113 are the movies which were made in the year 1950\n"
     ]
    }
   ],
   "source": [
    "data=len(titles[titles.year==1950])\n",
    "print( data,\"are the movies which were made in the year 1950\")"
   ]
  },
  {
   "cell_type": "markdown",
   "metadata": {
    "collapsed": true
   },
   "source": [
    "### How many movies were made in the year 1960?"
   ]
  },
  {
   "cell_type": "code",
   "execution_count": 51,
   "metadata": {},
   "outputs": [
    {
     "name": "stdout",
     "output_type": "stream",
     "text": [
      "1549 are the movies which were made in the year 1950\n"
     ]
    }
   ],
   "source": [
    "data=len(titles[titles.year==1960])\n",
    "print( data,\"are the movies which were made in the year 1950\")"
   ]
  },
  {
   "cell_type": "markdown",
   "metadata": {
    "collapsed": true
   },
   "source": [
    "### How many movies were made from 1950 through 1959?"
   ]
  },
  {
   "cell_type": "code",
   "execution_count": 44,
   "metadata": {},
   "outputs": [
    {
     "name": "stdout",
     "output_type": "stream",
     "text": [
      "12934 are the movies which were made  from 1950 through 1959\n"
     ]
    }
   ],
   "source": [
    "data=len(titles[(titles.year>=1950)&(titles.year<=1959)])\n",
    "print( data,\"are the movies which were made  from 1950 through 1959\")"
   ]
  },
  {
   "cell_type": "markdown",
   "metadata": {
    "collapsed": true
   },
   "source": [
    "### In what years has a movie titled \"Batman\" been released?"
   ]
  },
  {
   "cell_type": "code",
   "execution_count": 47,
   "metadata": {},
   "outputs": [
    {
     "name": "stdout",
     "output_type": "stream",
     "text": [
      "[1943, 1989] are the years when  a movie titled 'Batman' been released\n"
     ]
    }
   ],
   "source": [
    "data=titles[titles.title == \"Batman\"].year.to_list()\n",
    "print(data,\"are the years when  a movie titled 'Batman' been released\")"
   ]
  },
  {
   "cell_type": "markdown",
   "metadata": {
    "collapsed": true
   },
   "source": [
    "### How many roles were there in the movie \"Inception\"?"
   ]
  },
  {
   "cell_type": "code",
   "execution_count": 7,
   "metadata": {},
   "outputs": [
    {
     "name": "stdout",
     "output_type": "stream",
     "text": [
      "78 are roles were there in the movie Inception\n"
     ]
    }
   ],
   "source": [
    "data=len(cast[cast.title == \"Inception\"].character)\n",
    "print(data,\"are roles were there in the movie Inception\")"
   ]
  },
  {
   "cell_type": "markdown",
   "metadata": {
    "collapsed": true
   },
   "source": [
    "### How many roles in the movie \"Inception\" are NOT ranked by an \"n\" value?"
   ]
  },
  {
   "cell_type": "code",
   "execution_count": 14,
   "metadata": {},
   "outputs": [
    {
     "name": "stdout",
     "output_type": "stream",
     "text": [
      "0 roles in the movie Inception are NOT ranked by an n value\n"
     ]
    },
    {
     "name": "stderr",
     "output_type": "stream",
     "text": [
      "D:\\anaconda\\lib\\site-packages\\ipykernel_launcher.py:1: UserWarning: Boolean Series key will be reindexed to match DataFrame index.\n",
      "  \"\"\"Entry point for launching an IPython kernel.\n"
     ]
    }
   ],
   "source": [
    "data=(len(cast[cast.n == 0.0][cast.title == \"Inception\"].character))\n",
    "print(data,\"roles in the movie Inception are NOT ranked by an n value\")      "
   ]
  },
  {
   "cell_type": "markdown",
   "metadata": {
    "collapsed": true
   },
   "source": [
    "### But how many roles in the movie \"Inception\" did receive an \"n\" value?"
   ]
  },
  {
   "cell_type": "code",
   "execution_count": 15,
   "metadata": {},
   "outputs": [
    {
     "name": "stdout",
     "output_type": "stream",
     "text": [
      "78 roles in the movie Inception are  ranked by an n value\n"
     ]
    }
   ],
   "source": [
    "data=(len(cast[cast.n != 0.0][cast.title == \"Inception\"].character))\n",
    "print(data,\"roles in the movie Inception are  ranked by an n value\") "
   ]
  },
  {
   "cell_type": "markdown",
   "metadata": {
    "collapsed": true
   },
   "source": [
    "### Display the cast of \"North by Northwest\" in their correct \"n\"-value order, ignoring roles that did not earn a numeric \"n\" value."
   ]
  },
  {
   "cell_type": "code",
   "execution_count": 16,
   "metadata": {},
   "outputs": [
    {
     "name": "stdout",
     "output_type": "stream",
     "text": [
      "                      title  year                  name     type  \\\n",
      "871426   North by Northwest  1959            Cary Grant    actor   \n",
      "3518333  North by Northwest  1959       Eva Marie Saint  actress   \n",
      "1457165  North by Northwest  1959           James Mason    actor   \n",
      "3157232  North by Northwest  1959   Jessie Royce Landis  actress   \n",
      "356707   North by Northwest  1959        Leo G. Carroll    actor   \n",
      "3048272  North by Northwest  1959  Josephine Hutchinson  actress   \n",
      "1695173  North by Northwest  1959           Philip Ober    actor   \n",
      "1275337  North by Northwest  1959         Martin Landau    actor   \n",
      "2447081  North by Northwest  1959         Adam Williams    actor   \n",
      "1811387  North by Northwest  1959          Edward Platt    actor   \n",
      "665768   North by Northwest  1959     Robert Ellenstein    actor   \n",
      "2295714  North by Northwest  1959          Les Tremayne    actor   \n",
      "464736   North by Northwest  1959       Philip Coolidge    actor   \n",
      "1508344  North by Northwest  1959         Patrick McVey    actor   \n",
      "206471   North by Northwest  1959          Edward Binns    actor   \n",
      "1384780  North by Northwest  1959             Ken Lynch    actor   \n",
      "\n",
      "                           character     n  \n",
      "871426            Roger O. Thornhill   1.0  \n",
      "3518333                  Eve Kendall   2.0  \n",
      "1457165              Phillip Vandamm   3.0  \n",
      "3157232              Clara Thornhill   4.0  \n",
      "356707                 The Professor   5.0  \n",
      "3048272                Mrs. Townsend   6.0  \n",
      "1695173              Lester Townsend   7.0  \n",
      "1275337                      Leonard   8.0  \n",
      "2447081                     Valerian   9.0  \n",
      "1811387              Victor Larrabee  10.0  \n",
      "665768                         Licht  11.0  \n",
      "2295714                   Auctioneer  12.0  \n",
      "464736                     Dr. Cross  13.0  \n",
      "1508344               Sergeant Flamm  14.0  \n",
      "206471                Captain Junket  15.0  \n",
      "1384780  Charley - Chicago Policeman  16.0  \n"
     ]
    }
   ],
   "source": [
    "data=cast[cast.title == 'North by Northwest'].dropna(axis=0).sort_values('n')\n",
    "print(data)"
   ]
  },
  {
   "cell_type": "markdown",
   "metadata": {
    "collapsed": true
   },
   "source": [
    "### Display the entire cast, in \"n\"-order, of the 1972 film \"Sleuth\"."
   ]
  },
  {
   "cell_type": "code",
   "execution_count": 17,
   "metadata": {},
   "outputs": [
    {
     "name": "stdout",
     "output_type": "stream",
     "text": [
      "          title  year                name     type  \\\n",
      "1705394  Sleuth  1972    Laurence Olivier    actor   \n",
      "326773   Sleuth  1972       Michael Caine    actor   \n",
      "373876   Sleuth  1972      Alec Cawthorne    actor   \n",
      "1465483  Sleuth  1972  John (II) Matthews    actor   \n",
      "2724553  Sleuth  1972  Eve (III) Channing  actress   \n",
      "1448690  Sleuth  1972        Teddy Martin    actor   \n",
      "\n",
      "                          character    n  \n",
      "1705394                 Andrew Wyke  1.0  \n",
      "326773                  Milo Tindle  2.0  \n",
      "373876            Inspector Doppler  3.0  \n",
      "1465483  Detective Sergeant Tarrant  4.0  \n",
      "2724553             Marguerite Wyke  5.0  \n",
      "1448690      Police Constable Higgs  6.0  \n"
     ]
    },
    {
     "name": "stderr",
     "output_type": "stream",
     "text": [
      "D:\\anaconda\\lib\\site-packages\\ipykernel_launcher.py:1: UserWarning: Boolean Series key will be reindexed to match DataFrame index.\n",
      "  \"\"\"Entry point for launching an IPython kernel.\n"
     ]
    }
   ],
   "source": [
    "data=cast[cast.year == 1972][cast.title == \"Sleuth\"].sort_values('n')\n",
    "print(data)"
   ]
  },
  {
   "cell_type": "markdown",
   "metadata": {
    "collapsed": true
   },
   "source": [
    "### Now display the entire cast, in \"n\"-order, of the 2007 version of \"Sleuth\"."
   ]
  },
  {
   "cell_type": "code",
   "execution_count": 18,
   "metadata": {},
   "outputs": [
    {
     "name": "stdout",
     "output_type": "stream",
     "text": [
      "          title  year                 name     type          character    n\n",
      "326774   Sleuth  2007        Michael Caine    actor             Andrew  1.0\n",
      "1293634  Sleuth  2007             Jude Law    actor               Milo  2.0\n",
      "1805907  Sleuth  2007        Harold Pinter    actor        Man on T.V.  3.0\n",
      "260242   Sleuth  2007      Kenneth Branagh    actor  Other Man on T.V.  NaN\n",
      "373877   Sleuth  2007  Alec (II) Cawthorne    actor  Inspector Doppler  NaN\n",
      "2724552  Sleuth  2007    Eve (II) Channing  actress    Marguerite Wyke  NaN\n",
      "3370424  Sleuth  2007    Carmel O'Sullivan  actress             Maggie  NaN\n"
     ]
    },
    {
     "name": "stderr",
     "output_type": "stream",
     "text": [
      "D:\\anaconda\\lib\\site-packages\\ipykernel_launcher.py:1: UserWarning: Boolean Series key will be reindexed to match DataFrame index.\n",
      "  \"\"\"Entry point for launching an IPython kernel.\n"
     ]
    }
   ],
   "source": [
    "data=cast[cast.year == 2007][cast.title == \"Sleuth\"].sort_values('n')\n",
    "print(data)"
   ]
  },
  {
   "cell_type": "markdown",
   "metadata": {
    "collapsed": true
   },
   "source": [
    "### How many roles were credited in the silent 1921 version of Hamlet?"
   ]
  },
  {
   "cell_type": "code",
   "execution_count": 52,
   "metadata": {},
   "outputs": [
    {
     "name": "stdout",
     "output_type": "stream",
     "text": [
      "9 roles were credited in the silent 1921 version of Hamlet\n"
     ]
    },
    {
     "name": "stderr",
     "output_type": "stream",
     "text": [
      "D:\\anaconda\\lib\\site-packages\\ipykernel_launcher.py:1: UserWarning: Boolean Series key will be reindexed to match DataFrame index.\n",
      "  \"\"\"Entry point for launching an IPython kernel.\n"
     ]
    }
   ],
   "source": [
    "data=len(cast[cast.year == 1921][cast.title == \"Hamlet\"][cast.n != 0.0])\n",
    "print(data,\"roles were credited in the silent 1921 version of Hamlet\")"
   ]
  },
  {
   "cell_type": "markdown",
   "metadata": {
    "collapsed": true
   },
   "source": [
    "### How many roles were credited in Branagh’s 1996 Hamlet?"
   ]
  },
  {
   "cell_type": "code",
   "execution_count": 22,
   "metadata": {},
   "outputs": [
    {
     "name": "stdout",
     "output_type": "stream",
     "text": [
      "54 roles were credited in Branagh’s 1996 Hamlet\n"
     ]
    },
    {
     "name": "stderr",
     "output_type": "stream",
     "text": [
      "D:\\anaconda\\lib\\site-packages\\ipykernel_launcher.py:1: UserWarning: Boolean Series key will be reindexed to match DataFrame index.\n",
      "  \"\"\"Entry point for launching an IPython kernel.\n"
     ]
    }
   ],
   "source": [
    "data=cast[cast.year == 1996][cast.title == \"Hamlet\"].name.count()\n",
    "print(data,\"roles were credited in Branagh’s 1996 Hamlet\")"
   ]
  },
  {
   "cell_type": "markdown",
   "metadata": {
    "collapsed": true
   },
   "source": [
    "### How many \"Hamlet\" roles have been listed in all film credits through history?"
   ]
  },
  {
   "cell_type": "code",
   "execution_count": 23,
   "metadata": {},
   "outputs": [
    {
     "name": "stdout",
     "output_type": "stream",
     "text": [
      "342 Hamlet roles have been listed in all film credits through history\n"
     ]
    }
   ],
   "source": [
    "data=len(cast[cast.title == \"Hamlet\"])\n",
    "print(data,\"Hamlet roles have been listed in all film credits through history\")"
   ]
  },
  {
   "cell_type": "markdown",
   "metadata": {
    "collapsed": true
   },
   "source": [
    "### How many people have played an \"Ophelia\"?"
   ]
  },
  {
   "cell_type": "code",
   "execution_count": 25,
   "metadata": {},
   "outputs": [
    {
     "name": "stdout",
     "output_type": "stream",
     "text": [
      "117  people have played an Ophelia\n"
     ]
    }
   ],
   "source": [
    "data=len(cast[cast.character==\"Ophelia\"])\n",
    "print(data,\" people have played an Ophelia\")"
   ]
  },
  {
   "cell_type": "markdown",
   "metadata": {
    "collapsed": true
   },
   "source": [
    "### How many people have played a role called \"The Dude\"?"
   ]
  },
  {
   "cell_type": "code",
   "execution_count": 26,
   "metadata": {},
   "outputs": [
    {
     "name": "stdout",
     "output_type": "stream",
     "text": [
      "19  people have played an The Dude\n"
     ]
    }
   ],
   "source": [
    "data=len(cast[cast.character==\"The Dude\"])\n",
    "print(data,\" people have played an The Dude\")"
   ]
  },
  {
   "cell_type": "markdown",
   "metadata": {
    "collapsed": true
   },
   "source": [
    "### How many people have played a role called \"The Stranger\"?"
   ]
  },
  {
   "cell_type": "code",
   "execution_count": 27,
   "metadata": {},
   "outputs": [
    {
     "name": "stdout",
     "output_type": "stream",
     "text": [
      "212  people have played an The Stranger\n"
     ]
    }
   ],
   "source": [
    "data=len(cast[cast.character==\"The Stranger\"])\n",
    "print(data,\" people have played an The Stranger\")"
   ]
  },
  {
   "cell_type": "markdown",
   "metadata": {
    "collapsed": true
   },
   "source": [
    "### How many roles has Sidney Poitier played throughout his career?"
   ]
  },
  {
   "cell_type": "code",
   "execution_count": 53,
   "metadata": {},
   "outputs": [
    {
     "name": "stdout",
     "output_type": "stream",
     "text": [
      "43 many roles has Sidney Poitier played throughout his career\n"
     ]
    }
   ],
   "source": [
    "data=len(cast[cast.name == \"Sidney Poitier\"].character)\n",
    "print(data,\"many roles has Sidney Poitier played throughout his career\")"
   ]
  },
  {
   "cell_type": "markdown",
   "metadata": {
    "collapsed": true
   },
   "source": [
    "### How many roles has Judi Dench played?"
   ]
  },
  {
   "cell_type": "code",
   "execution_count": 30,
   "metadata": {},
   "outputs": [
    {
     "name": "stdout",
     "output_type": "stream",
     "text": [
      "55 many roles has Judi Dench played\n"
     ]
    }
   ],
   "source": [
    "data=len(cast[cast.name == \"Judi Dench\"].character)\n",
    "print(data,\"many roles has Judi Dench played\")"
   ]
  },
  {
   "cell_type": "markdown",
   "metadata": {
    "collapsed": true
   },
   "source": [
    "### List the supporting roles (having n=2) played by Cary Grant in the 1940s, in order by year."
   ]
  },
  {
   "cell_type": "code",
   "execution_count": 40,
   "metadata": {},
   "outputs": [
    {
     "name": "stdout",
     "output_type": "stream",
     "text": [
      "                   title  year        name   type    character    n\n",
      "871423  My Favorite Wife  1940  Cary Grant  actor   Nick Arden  2.0\n",
      "871433    Penny Serenade  1941  Cary Grant  actor  Roger Adams  2.0\n"
     ]
    }
   ],
   "source": [
    "data=cast[(cast.name == 'Cary Grant') & (cast.n == 2)&(cast.year >= 1940)&(cast.year <= 1949)].sort_values('year')\n",
    "print(data)"
   ]
  },
  {
   "cell_type": "markdown",
   "metadata": {
    "collapsed": true
   },
   "source": [
    "### List the leading roles that Cary Grant played in the 1940s in order by year."
   ]
  },
  {
   "cell_type": "code",
   "execution_count": 39,
   "metadata": {},
   "outputs": [
    {
     "name": "stdout",
     "output_type": "stream",
     "text": [
      "                                       title  year        name   type  \\\n",
      "871448               The Howards of Virginia  1940  Cary Grant  actor   \n",
      "871407                       His Girl Friday  1940  Cary Grant  actor   \n",
      "871450                The Philadelphia Story  1940  Cary Grant  actor   \n",
      "871438                             Suspicion  1941  Cary Grant  actor   \n",
      "871452                  The Talk of the Town  1942  Cary Grant  actor   \n",
      "871429                 Once Upon a Honeymoon  1942  Cary Grant  actor   \n",
      "871398                     Destination Tokyo  1943  Cary Grant  actor   \n",
      "871422                             Mr. Lucky  1943  Cary Grant  actor   \n",
      "871430                      Once Upon a Time  1944  Cary Grant  actor   \n",
      "871390                  Arsenic and Old Lace  1944  Cary Grant  actor   \n",
      "871425             None But the Lonely Heart  1944  Cary Grant  actor   \n",
      "871424                         Night and Day  1946  Cary Grant  actor   \n",
      "871427                             Notorious  1946  Cary Grant  actor   \n",
      "871444      The Bachelor and the Bobby-Soxer  1947  Cary Grant  actor   \n",
      "871445                     The Bishop's Wife  1947  Cary Grant  actor   \n",
      "871421  Mr. Blandings Builds His Dream House  1948  Cary Grant  actor   \n",
      "871402          Every Girl Should Be Married  1948  Cary Grant  actor   \n",
      "871411                I Was a Male War Bride  1949  Cary Grant  actor   \n",
      "\n",
      "                                   character    n  \n",
      "871448                           Matt Howard  1.0  \n",
      "871407                          Walter Burns  1.0  \n",
      "871450                    C. K. Dexter Haven  1.0  \n",
      "871438                      Johnnie Aysgarth  1.0  \n",
      "871452                          Leopold Dilg  1.0  \n",
      "871429                 Patrick 'Pat' O'Toole  1.0  \n",
      "871398                         Capt. Cassidy  1.0  \n",
      "871422  Joe Adams -posing as Joe Bascopolous  1.0  \n",
      "871430                           Jerry Flynn  1.0  \n",
      "871390                     Mortimer Brewster  1.0  \n",
      "871425                            Ernie Mott  1.0  \n",
      "871424                           Cole Porter  1.0  \n",
      "871427                                Devlin  1.0  \n",
      "871444                           Dick Nugent  1.0  \n",
      "871445                                Dudley  1.0  \n",
      "871421                         Jim Blandings  1.0  \n",
      "871402                     Dr. Madison Brown  1.0  \n",
      "871411                 Captain Henri Rochard  1.0  \n"
     ]
    }
   ],
   "source": [
    "data=cast[(cast.name == 'Cary Grant') & (cast.n == 1)&(cast.year >= 1940)&(cast.year <= 1949)].sort_values('year')\n",
    "print(data)"
   ]
  },
  {
   "cell_type": "markdown",
   "metadata": {
    "collapsed": true
   },
   "source": [
    "### How many roles were available for actors in the 1950s?"
   ]
  },
  {
   "cell_type": "code",
   "execution_count": 42,
   "metadata": {},
   "outputs": [
    {
     "name": "stdout",
     "output_type": "stream",
     "text": [
      "157738 many roles were available for actors in the 1950s\n"
     ]
    }
   ],
   "source": [
    "data=len(cast[(cast.year >= 1950)&(cast.year < 1960) & (cast.type == \"actor\")].type)\n",
    "print(data,\"many roles were available for actors in the 1950s\")"
   ]
  },
  {
   "cell_type": "markdown",
   "metadata": {
    "collapsed": true
   },
   "source": [
    "### How many roles were available for actresses in the 1950s?"
   ]
  },
  {
   "cell_type": "code",
   "execution_count": 44,
   "metadata": {},
   "outputs": [
    {
     "name": "stdout",
     "output_type": "stream",
     "text": [
      "57733 many roles were available for actresses in the 1950s\n"
     ]
    }
   ],
   "source": [
    "data=len(cast[(cast.year >= 1950)&(cast.year < 1960) & (cast.type == \"actress\")].type)\n",
    "print(data,\"many roles were available for actresses in the 1950s\")"
   ]
  },
  {
   "cell_type": "markdown",
   "metadata": {
    "collapsed": true
   },
   "source": [
    "### How many leading roles (n=1) were available from the beginning of film history through 1980?"
   ]
  },
  {
   "cell_type": "code",
   "execution_count": 45,
   "metadata": {},
   "outputs": [
    {
     "name": "stdout",
     "output_type": "stream",
     "text": [
      "65140 many leading roles (n=1) were available from the beginning of film history through 1980\n"
     ]
    },
    {
     "name": "stderr",
     "output_type": "stream",
     "text": [
      "D:\\anaconda\\lib\\site-packages\\ipykernel_launcher.py:1: UserWarning: Boolean Series key will be reindexed to match DataFrame index.\n",
      "  \"\"\"Entry point for launching an IPython kernel.\n"
     ]
    }
   ],
   "source": [
    "data=len(cast[cast.n == 1][cast.year <= 1980])\n",
    "print(data,\"many leading roles (n=1) were available from the beginning of film history through 1980\")"
   ]
  },
  {
   "cell_type": "markdown",
   "metadata": {
    "collapsed": true
   },
   "source": [
    "### How many non-leading roles were available through from the beginning of film history through 1980?"
   ]
  },
  {
   "cell_type": "code",
   "execution_count": 54,
   "metadata": {},
   "outputs": [
    {
     "name": "stderr",
     "output_type": "stream",
     "text": [
      "D:\\anaconda\\lib\\site-packages\\ipykernel_launcher.py:1: UserWarning: Boolean Series key will be reindexed to match DataFrame index.\n",
      "  \"\"\"Entry point for launching an IPython kernel.\n"
     ]
    },
    {
     "name": "stdout",
     "output_type": "stream",
     "text": [
      "1117667 many non-leading roles were available from the beginning of film history through 1980\n"
     ]
    }
   ],
   "source": [
    "data=len(cast[cast.n != 1][cast.year <= 1980])\n",
    "print(data,\"many non-leading roles were available from the beginning of film history through 1980\")"
   ]
  },
  {
   "cell_type": "markdown",
   "metadata": {
    "collapsed": true
   },
   "source": [
    "### How many roles through 1980 were minor enough that they did not warrant a numeric \"n\" rank?"
   ]
  },
  {
   "cell_type": "code",
   "execution_count": 49,
   "metadata": {},
   "outputs": [
    {
     "name": "stderr",
     "output_type": "stream",
     "text": [
      "D:\\anaconda\\lib\\site-packages\\ipykernel_launcher.py:1: UserWarning: Boolean Series key will be reindexed to match DataFrame index.\n",
      "  \"\"\"Entry point for launching an IPython kernel.\n"
     ]
    },
    {
     "name": "stdout",
     "output_type": "stream",
     "text": [
      "448347\n"
     ]
    }
   ],
   "source": [
    "data=len(cast[cast.n.isnull()][cast.year <= 1980])\n",
    "print(data)"
   ]
  }
 ],
 "metadata": {
  "kernelspec": {
   "display_name": "Python 3",
   "language": "python",
   "name": "python3"
  },
  "language_info": {
   "codemirror_mode": {
    "name": "ipython",
    "version": 3
   },
   "file_extension": ".py",
   "mimetype": "text/x-python",
   "name": "python",
   "nbconvert_exporter": "python",
   "pygments_lexer": "ipython3",
   "version": "3.7.6"
  }
 },
 "nbformat": 4,
 "nbformat_minor": 1
}
