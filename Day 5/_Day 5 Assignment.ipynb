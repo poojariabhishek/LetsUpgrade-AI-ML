{
 "cells": [
  {
   "cell_type": "markdown",
   "metadata": {},
   "source": [
    "# Assignment Day 5"
   ]
  },
  {
   "cell_type": "markdown",
   "metadata": {},
   "source": [
    "__1)Write a Python program to find the first 20 non-even prime natural numbers__"
   ]
  },
  {
   "cell_type": "code",
   "execution_count": 41,
   "metadata": {},
   "outputs": [
    {
     "name": "stdout",
     "output_type": "stream",
     "text": [
      "First 20 non-even prime numbers are: [3, 5, 7, 9, 11, 13, 15, 17, 19, 21, 23, 25, 27, 29, 31, 33, 35, 37, 39, 41]\n"
     ]
    }
   ],
   "source": [
    "num =2\n",
    "n = 0\n",
    "prime = []\n",
    "\n",
    "while n < 20:\n",
    "    if num % 2 == 0:\n",
    "        pass\n",
    "    else:\n",
    "        prime.append(num)\n",
    "        n= n + 1\n",
    "    num = num + 1\n",
    "    \n",
    "print(\"First 20 non-even prime numbers are:\",prime)\n",
    "\n",
    "    \n",
    "        "
   ]
  },
  {
   "cell_type": "markdown",
   "metadata": {},
   "source": [
    "__2)Write a Python program to implement 15 functions of string.__\n"
   ]
  },
  {
   "cell_type": "code",
   "execution_count": 11,
   "metadata": {},
   "outputs": [
    {
     "name": "stdout",
     "output_type": "stream",
     "text": [
      "Hello LetsUpgrade\n",
      "3\n",
      "000000000000000000000000000000000000000000000000000000000000000000000000000000000 Hello LetsUpgrade \n",
      " Hfllo LftsUpgradf \n",
      " HELLO LETSUPGRADE \n",
      " hello letsupgrade \n",
      " hELLO lETSuPGRADE \n",
      " Hello Letsupgrade \n",
      "False\n",
      "False\n",
      " Hello LetsUpgrade \n",
      "19\n",
      "False\n",
      "2\n",
      " hello letsupgrade \n"
     ]
    }
   ],
   "source": [
    "function = \" Hello LetsUpgrade \"\n",
    "print(function.strip())\n",
    "print(function.count(\"e\"))\n",
    "print(function.zfill(100))\n",
    "print(function.replace(\"e\",\"f\"))\n",
    "print(function.upper())\n",
    "print(function.lower())\n",
    "print(function.swapcase())\n",
    "print(function.title())\n",
    "print(function.endswith(\"hii\"))\n",
    "print(function.isdecimal())\n",
    "print(function.format(\"l\"))\n",
    "print(len(function))\n",
    "print(function.isupper())\n",
    "print(function.find(\"e\"))\n",
    "print(function.casefold())"
   ]
  },
  {
   "cell_type": "markdown",
   "metadata": {},
   "source": [
    "__3)Write a Python program to check if the given string is a Palindrome or Anagram or None of them.\n",
    "Display the message accordingly to the user.__\n"
   ]
  },
  {
   "cell_type": "code",
   "execution_count": 13,
   "metadata": {},
   "outputs": [
    {
     "name": "stdout",
     "output_type": "stream",
     "text": [
      "Please write a word :munum\n",
      "munum  is a palindrome\n"
     ]
    }
   ],
   "source": [
    "str=input(\"Please write a word :\")\n",
    "if (str==str[::-1]):\n",
    "    print(str , \" is a palindrome\")\n",
    "else:\n",
    "    print(str, \"is not a palindrome\")\n",
    "    "
   ]
  },
  {
   "cell_type": "code",
   "execution_count": 14,
   "metadata": {},
   "outputs": [
    {
     "name": "stdout",
     "output_type": "stream",
     "text": [
      "enter your first string : doctor\n",
      "enter your second string: rocter\n",
      "The strings is not anagrams.\n"
     ]
    }
   ],
   "source": [
    "a1=input(\"enter your first string : \")\n",
    "a2=input(\"enter your second string: \")\n",
    "if(sorted(a1)== sorted(a2)): \n",
    "    print(\"The strings is anagrams.\")  \n",
    "else: \n",
    "    print(\"The strings is not anagrams.\")"
   ]
  },
  {
   "cell_type": "markdown",
   "metadata": {},
   "source": [
    "__4)Write a Python's user defined function that removes all the additional characters from the string\n",
    "and converts it finally to lower case using built-in lower(). eg: If the string is \"Dr. Darshan Ingle\n",
    "@AI-ML Trainer\", then the output be \"drdarshaningleaimltrainer\".__"
   ]
  },
  {
   "cell_type": "code",
   "execution_count": 34,
   "metadata": {},
   "outputs": [
    {
     "name": "stdout",
     "output_type": "stream",
     "text": [
      "Type your string: Dr. Darshan Ingle @AI-ML Trainer\n",
      "drdarshaningleaimltrainer\n"
     ]
    }
   ],
   "source": [
    "bad_chars = ['.', '-', ' ', \"@\"] \n",
    "str =  input(\"Type your string: \") \n",
    "for i in bad_chars : \n",
    "    str = str.replace(i, '') \n",
    "    \n",
    "print ( str.lower())"
   ]
  }
 ],
 "metadata": {
  "kernelspec": {
   "display_name": "Python 3",
   "language": "python",
   "name": "python3"
  },
  "language_info": {
   "codemirror_mode": {
    "name": "ipython",
    "version": 3
   },
   "file_extension": ".py",
   "mimetype": "text/x-python",
   "name": "python",
   "nbconvert_exporter": "python",
   "pygments_lexer": "ipython3",
   "version": "3.7.6"
  }
 },
 "nbformat": 4,
 "nbformat_minor": 4
}
