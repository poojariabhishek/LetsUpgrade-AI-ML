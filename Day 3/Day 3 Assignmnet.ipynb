{
 "cells": [
  {
   "cell_type": "markdown",
   "metadata": {},
   "source": [
    "# Assignment Day 3 , 8th July 2020"
   ]
  },
  {
   "cell_type": "markdown",
   "metadata": {},
   "source": [
    "__1) Write a program to subtract two complex numbers in Python__"
   ]
  },
  {
   "cell_type": "code",
   "execution_count": 6,
   "metadata": {},
   "outputs": [
    {
     "name": "stdout",
     "output_type": "stream",
     "text": [
      "Subtraction of 123j - 145j = -22j is the answer\n"
     ]
    }
   ],
   "source": [
    "a = 123j\n",
    "b = 145j\n",
    "c = a-b\n",
    "print(\"Subtraction of\",a ,\"-\" ,b,\"=\", c, \"is the answer\")"
   ]
  },
  {
   "cell_type": "markdown",
   "metadata": {},
   "source": [
    "__2)Write a program to find the fourth root of a number.__"
   ]
  },
  {
   "cell_type": "code",
   "execution_count": 8,
   "metadata": {},
   "outputs": [
    {
     "name": "stdout",
     "output_type": "stream",
     "text": [
      "The fourth root of  124 is 3.3369939654815144\n"
     ]
    }
   ],
   "source": [
    "a = 124\n",
    "b = a**(1/4)\n",
    "print(\"The fourth root of \",a, \"is\", b)"
   ]
  },
  {
   "cell_type": "markdown",
   "metadata": {},
   "source": [
    "__3)Write a program to swap two numbers in Python with the help of a temporary variable.__"
   ]
  },
  {
   "cell_type": "code",
   "execution_count": 11,
   "metadata": {},
   "outputs": [
    {
     "name": "stdout",
     "output_type": "stream",
     "text": [
      "Before swapping x = 23\n",
      "Before swapping y = 32\n",
      "After swapping x = 32\n",
      "After swapping y = 23\n"
     ]
    }
   ],
   "source": [
    "x = 23\n",
    "y = 32\n",
    "print(\"Before swapping x =\", x)\n",
    "print(\"Before swapping y =\", y)\n",
    "z = x # Here z is the temporary variable.\n",
    "x = y\n",
    "y = z\n",
    "print(\"After swapping x =\", x)\n",
    "print(\"After swapping y =\", y)"
   ]
  },
  {
   "cell_type": "markdown",
   "metadata": {},
   "source": [
    "__4)Write a program to swap two numbers in Python without using a temporary variable.__"
   ]
  },
  {
   "cell_type": "code",
   "execution_count": 12,
   "metadata": {},
   "outputs": [
    {
     "name": "stdout",
     "output_type": "stream",
     "text": [
      "Before swapping the number in num1 = 2345\n",
      "Before swapping the number in num2 = 9087\n",
      "After swapping the number in num1 = 9087\n",
      "After swapping the number in num2 = 2345\n"
     ]
    }
   ],
   "source": [
    "num1 =2345\n",
    "num2 = 9087\n",
    "print(\"Before swapping the number in num1 =\", num1)\n",
    "print(\"Before swapping the number in num2 =\", num2)\n",
    "num1,num2 = num2,num1\n",
    "print(\"After swapping the number in num1 =\", num1)\n",
    "print(\"After swapping the number in num2 =\", num2)"
   ]
  },
  {
   "cell_type": "markdown",
   "metadata": {},
   "source": [
    "__5)Write a program to convert fahrenheit to kelvin and celsius both.__"
   ]
  },
  {
   "cell_type": "code",
   "execution_count": 18,
   "metadata": {},
   "outputs": [
    {
     "name": "stdout",
     "output_type": "stream",
     "text": [
      "Today Mumbai Temperature in Fahrenheit 87.6\n",
      "Today Mumbai Temperature in Kelvin 304.3888888888889\n",
      "Today Mumbai Temperature in Celsius 30.88888888888889\n"
     ]
    }
   ],
   "source": [
    "fahrenheit = 87.8\n",
    "\n",
    "kelvin = 273.5 + ((fahrenheit - 32.0) * (5.0/9.0))\n",
    "celsius = (fahrenheit - 32)*5/9\n",
    "print(\"Today Mumbai Temperature in Fahrenheit\", fahrenheit) \n",
    "print(\"Today Mumbai Temperature in Kelvin\", kelvin) \n",
    "print(\"Today Mumbai Temperature in Celsius\",celsius) "
   ]
  },
  {
   "cell_type": "markdown",
   "metadata": {},
   "source": [
    "__6)Write a program to demonstrate all the available data types in Python. Hint: Use type() function.__\n"
   ]
  },
  {
   "cell_type": "code",
   "execution_count": 20,
   "metadata": {},
   "outputs": [
    {
     "name": "stdout",
     "output_type": "stream",
     "text": [
      "<class 'int'>\n",
      "<class 'complex'>\n",
      "<class 'float'>\n",
      "<class 'str'>\n"
     ]
    }
   ],
   "source": [
    "a = 134\n",
    "print(type(a))\n",
    "b =123j\n",
    "print(type(b))\n",
    "c =23.33\n",
    "print(type(c))\n",
    "d = \"Hii LtsUpgrade Team\"\n",
    "print(type(d))"
   ]
  },
  {
   "cell_type": "markdown",
   "metadata": {},
   "source": [
    "__7)Create a Markdown cell in jupyter and list the steps discussed in the session by Dr. Darshan\n",
    "Ingle sir to create Github profile and upload Githubs Assignment link.__"
   ]
  },
  {
   "cell_type": "markdown",
   "metadata": {},
   "source": [
    "1.Create a Github public repo by clicking the new option in the left side of the website.\n",
    "2.Create a repo name it LetsUpgrade AI/ML and click on public.\n",
    "3.Upload or Drag the files/solution in the repo from your local files.\n",
    "4.Copy the URL of the Folder of that day and paste in the Assignment Submission Form (Google Form).\n"
   ]
  },
  {
   "cell_type": "code",
   "execution_count": null,
   "metadata": {},
   "outputs": [],
   "source": []
  }
 ],
 "metadata": {
  "kernelspec": {
   "display_name": "Python 3",
   "language": "python",
   "name": "python3"
  },
  "language_info": {
   "codemirror_mode": {
    "name": "ipython",
    "version": 3
   },
   "file_extension": ".py",
   "mimetype": "text/x-python",
   "name": "python",
   "nbconvert_exporter": "python",
   "pygments_lexer": "ipython3",
   "version": "3.7.6"
  }
 },
 "nbformat": 4,
 "nbformat_minor": 4
}
