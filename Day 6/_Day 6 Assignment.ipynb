{
 "cells": [
  {
   "cell_type": "markdown",
   "metadata": {},
   "source": [
    "# Assignment Day 6 "
   ]
  },
  {
   "cell_type": "markdown",
   "metadata": {},
   "source": [
    "__1)Assuming that we have some email addresses in the \"username@companyname.com\" format, please write program\n",
    "to print the company name of a given email address. Both user names and company names are composed of letters\n",
    "only.__\n"
   ]
  },
  {
   "cell_type": "code",
   "execution_count": 3,
   "metadata": {},
   "outputs": [
    {
     "name": "stdout",
     "output_type": "stream",
     "text": [
      "ENTER YOUR EMAIL-ID:sundargada@yahoo.com\n",
      "Your Email compny name is : yahoo\n"
     ]
    }
   ],
   "source": [
    "a = input(\"ENTER YOUR EMAIL-ID:\")\n",
    "b = a.split(\"@\")[1].split(\".\")[0]\n",
    "print( \"Your Email compny name is :\",b)"
   ]
  },
  {
   "cell_type": "markdown",
   "metadata": {},
   "source": [
    "__2)Write a program that accepts a comma-separated sequence of words as input and prints the words in a comma\n",
    "separated sequence after sorting them alphabetically.__\n"
   ]
  },
  {
   "cell_type": "code",
   "execution_count": 6,
   "metadata": {},
   "outputs": [
    {
     "name": "stdout",
     "output_type": "stream",
     "text": [
      "enter your list: Industrious,Team,LetsUpgrade,Hello\n",
      "['Hello', 'Industrious', 'LetsUpgrade', 'Team']\n"
     ]
    }
   ],
   "source": [
    "def sorter(lst):\n",
    "    alp=lst.split(\",\")\n",
    "    alp.sort()\n",
    "    return alp\n",
    "print(sorter(input(\"enter your list: \")))"
   ]
  },
  {
   "cell_type": "markdown",
   "metadata": {},
   "source": [
    "__3)Create your own Jupyter Notebook for Sets__\n"
   ]
  },
  {
   "cell_type": "markdown",
   "metadata": {},
   "source": [
    "Created in another notebook as instructed\n"
   ]
  },
  {
   "cell_type": "markdown",
   "metadata": {},
   "source": [
    "__4)Given a list of n-1 numbers ranging from 1 to n, your task is to find the missing number. There are no duplicates.__\n"
   ]
  },
  {
   "cell_type": "code",
   "execution_count": 13,
   "metadata": {},
   "outputs": [
    {
     "name": "stdout",
     "output_type": "stream",
     "text": [
      "4.0\n"
     ]
    }
   ],
   "source": [
    "#My function can handle only on missing number\n",
    "def misising_number(lst):\n",
    "    num =len(lst)\n",
    "    a = (num+1)*(num+2)/2\n",
    "    return a-sum(lst)\n",
    "lst=[1,2,3,5,6,7]\n",
    "print(misising_number(lst))"
   ]
  },
  {
   "cell_type": "markdown",
   "metadata": {},
   "source": [
    "__5)With a given list L, write a program to print this list L after removing all duplicate values with original order reserved.__"
   ]
  },
  {
   "cell_type": "code",
   "execution_count": 37,
   "metadata": {},
   "outputs": [
    {
     "name": "stdout",
     "output_type": "stream",
     "text": [
      "[1, 2, 5, 7, 9, 6, 3, 8, 0]\n"
     ]
    }
   ],
   "source": [
    "def duplicate(num):\n",
    "    n=[]\n",
    "    for ser in num: \n",
    "        if ser  not in n:\n",
    "            n.append(ser)\n",
    "    return (n)\n",
    "lst = (1,2,5,7,9,6,1,3,2,5,8,0,9,6,1,2,5,6,7,8,9,)\n",
    "print(list(duplicate(lst)))"
   ]
  }
 ],
 "metadata": {
  "kernelspec": {
   "display_name": "Python 3",
   "language": "python",
   "name": "python3"
  },
  "language_info": {
   "codemirror_mode": {
    "name": "ipython",
    "version": 3
   },
   "file_extension": ".py",
   "mimetype": "text/x-python",
   "name": "python",
   "nbconvert_exporter": "python",
   "pygments_lexer": "ipython3",
   "version": "3.7.6"
  }
 },
 "nbformat": 4,
 "nbformat_minor": 4
}
