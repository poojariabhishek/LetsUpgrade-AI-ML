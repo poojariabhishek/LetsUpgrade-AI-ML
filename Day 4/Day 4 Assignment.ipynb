{
 "cells": [
  {
   "cell_type": "markdown",
   "metadata": {},
   "source": [
    "# Assignment Day 4 | 9th July 2020"
   ]
  },
  {
   "cell_type": "markdown",
   "metadata": {},
   "source": [
    "__1)Research on whether addition, subtraction, multiplication, division, floor division and modulo\n",
    "operations be performed on complex numbers. Based on your study, implement a Python\n",
    "program to demonstrate these operations.__\n"
   ]
  },
  {
   "cell_type": "code",
   "execution_count": 11,
   "metadata": {},
   "outputs": [
    {
     "name": "stdout",
     "output_type": "stream",
     "text": [
      "Addition of two complex number  23j and 34j  answer is 57j\n"
     ]
    }
   ],
   "source": [
    "#Addition of Complex number\n",
    "a = 23j\n",
    "b = 34j\n",
    "c = a+b\n",
    "print(\"Addition of two complex number \", a ,\"and\", b ,\" answer is\", c)"
   ]
  },
  {
   "cell_type": "code",
   "execution_count": 12,
   "metadata": {},
   "outputs": [
    {
     "name": "stdout",
     "output_type": "stream",
     "text": [
      "Subtraction of two complex number  28j and 8j  answer is 20j\n"
     ]
    }
   ],
   "source": [
    "#Subtraction of Complex number\n",
    "a = 28j\n",
    "b = 8j\n",
    "c = a-b\n",
    "print(\"Subtraction of two complex number \", a ,\"and\", b ,\" answer is\", c)"
   ]
  },
  {
   "cell_type": "code",
   "execution_count": 18,
   "metadata": {},
   "outputs": [
    {
     "name": "stdout",
     "output_type": "stream",
     "text": [
      "Multiplication of two complex number  (12+5j) and (34-4j)  answer is (428+122j)\n"
     ]
    }
   ],
   "source": [
    "#Multiplication of Complex number\n",
    "a = 12+5j\n",
    "b = 34-4j\n",
    "c = a*b\n",
    "print(\"Multiplication of two complex number \", a ,\"and\", b ,\" answer is\", c)"
   ]
  },
  {
   "cell_type": "code",
   "execution_count": 16,
   "metadata": {},
   "outputs": [
    {
     "name": "stdout",
     "output_type": "stream",
     "text": [
      "Division of two complex number  225j and 9  answer is 25j\n"
     ]
    }
   ],
   "source": [
    "#Division of Complex number\n",
    "a = 225j\n",
    "b = 9\n",
    "c = a/b\n",
    "print(\"Division of two complex number \", a ,\"and\", b ,\" answer is\", c)"
   ]
  },
  {
   "cell_type": "code",
   "execution_count": 17,
   "metadata": {},
   "outputs": [
    {
     "ename": "TypeError",
     "evalue": "can't take floor of complex number.",
     "output_type": "error",
     "traceback": [
      "\u001b[1;31m---------------------------------------------------------------------------\u001b[0m",
      "\u001b[1;31mTypeError\u001b[0m                                 Traceback (most recent call last)",
      "\u001b[1;32m<ipython-input-17-735876a2daa8>\u001b[0m in \u001b[0;36m<module>\u001b[1;34m\u001b[0m\n\u001b[0;32m      2\u001b[0m \u001b[0ma\u001b[0m \u001b[1;33m=\u001b[0m \u001b[1;36m234j\u001b[0m\u001b[1;33m\u001b[0m\u001b[1;33m\u001b[0m\u001b[0m\n\u001b[0;32m      3\u001b[0m \u001b[0mb\u001b[0m \u001b[1;33m=\u001b[0m \u001b[1;36m34j\u001b[0m\u001b[1;33m\u001b[0m\u001b[1;33m\u001b[0m\u001b[0m\n\u001b[1;32m----> 4\u001b[1;33m \u001b[0mc\u001b[0m \u001b[1;33m=\u001b[0m \u001b[0ma\u001b[0m\u001b[1;33m//\u001b[0m\u001b[0mb\u001b[0m\u001b[1;33m\u001b[0m\u001b[1;33m\u001b[0m\u001b[0m\n\u001b[0m\u001b[0;32m      5\u001b[0m \u001b[0mprint\u001b[0m\u001b[1;33m(\u001b[0m\u001b[1;34m\"Multiplication of two complex number \"\u001b[0m\u001b[1;33m,\u001b[0m \u001b[0ma\u001b[0m \u001b[1;33m,\u001b[0m\u001b[1;34m\"and\"\u001b[0m\u001b[1;33m,\u001b[0m \u001b[0mb\u001b[0m \u001b[1;33m,\u001b[0m\u001b[1;34m\" answer is\"\u001b[0m\u001b[1;33m,\u001b[0m \u001b[0mc\u001b[0m\u001b[1;33m)\u001b[0m\u001b[1;33m\u001b[0m\u001b[1;33m\u001b[0m\u001b[0m\n",
      "\u001b[1;31mTypeError\u001b[0m: can't take floor of complex number."
     ]
    }
   ],
   "source": [
    "#Floor Division of Complex number\n",
    "a = 234j\n",
    "b = 34j\n",
    "c = a//b\n",
    "print(\"Multiplication of two complex number \", a ,\"and\", b ,\" answer is\", c)"
   ]
  },
  {
   "cell_type": "code",
   "execution_count": 19,
   "metadata": {},
   "outputs": [
    {
     "ename": "TypeError",
     "evalue": "can't mod complex numbers.",
     "output_type": "error",
     "traceback": [
      "\u001b[1;31m---------------------------------------------------------------------------\u001b[0m",
      "\u001b[1;31mTypeError\u001b[0m                                 Traceback (most recent call last)",
      "\u001b[1;32m<ipython-input-19-4fd116dba4eb>\u001b[0m in \u001b[0;36m<module>\u001b[1;34m\u001b[0m\n\u001b[0;32m      2\u001b[0m \u001b[0ma\u001b[0m \u001b[1;33m=\u001b[0m \u001b[1;36m456j\u001b[0m\u001b[1;33m\u001b[0m\u001b[1;33m\u001b[0m\u001b[0m\n\u001b[0;32m      3\u001b[0m \u001b[0mb\u001b[0m \u001b[1;33m=\u001b[0m \u001b[1;36m13j\u001b[0m\u001b[1;33m\u001b[0m\u001b[1;33m\u001b[0m\u001b[0m\n\u001b[1;32m----> 4\u001b[1;33m \u001b[0mc\u001b[0m \u001b[1;33m=\u001b[0m \u001b[0ma\u001b[0m\u001b[1;33m%\u001b[0m\u001b[0mb\u001b[0m\u001b[1;33m\u001b[0m\u001b[1;33m\u001b[0m\u001b[0m\n\u001b[0m\u001b[0;32m      5\u001b[0m \u001b[0mprint\u001b[0m\u001b[1;33m(\u001b[0m\u001b[1;34m\"Modulo of two complex number \"\u001b[0m\u001b[1;33m,\u001b[0m \u001b[0ma\u001b[0m \u001b[1;33m,\u001b[0m\u001b[1;34m\"and\"\u001b[0m\u001b[1;33m,\u001b[0m \u001b[0mb\u001b[0m \u001b[1;33m,\u001b[0m\u001b[1;34m\" answer is\"\u001b[0m\u001b[1;33m,\u001b[0m \u001b[0mc\u001b[0m\u001b[1;33m)\u001b[0m\u001b[1;33m\u001b[0m\u001b[1;33m\u001b[0m\u001b[0m\n",
      "\u001b[1;31mTypeError\u001b[0m: can't mod complex numbers."
     ]
    }
   ],
   "source": [
    "#Modulo of Complex number\n",
    "a = 456j\n",
    "b = 13j\n",
    "c = a%b\n",
    "print(\"Modulo of two complex number \", a ,\"and\", b ,\" answer is\", c)"
   ]
  },
  {
   "cell_type": "code",
   "execution_count": 20,
   "metadata": {},
   "outputs": [
    {
     "name": "stdout",
     "output_type": "stream",
     "text": [
      "Modulo of  complex number  (34+456j) and answer is (457.2657870429407+0j)\n"
     ]
    }
   ],
   "source": [
    "#Modulo of Complex number using formula and cmath\n",
    "a = 34+456j\n",
    "import cmath\n",
    "b=cmath.sqrt((a.real)**2+(a.imag)**2)\n",
    "print(\"Modulo of  complex number \", a ,\"and answer is\", b)"
   ]
  },
  {
   "cell_type": "markdown",
   "metadata": {},
   "source": [
    "__Conclusion:__<br>\n",
    "1.Addition,Subtraction,Multiplication and Division of a complex number is possible.<br>\n",
    "2.Floor Division of comlex number is not possible.<br>\n",
    "3.Modulos of complex number is possible when using formula or built-in abs() function is been use.<br>\n",
    "4.The last number in range is not include in range function().<br>"
   ]
  },
  {
   "cell_type": "markdown",
   "metadata": {},
   "source": [
    "__2)Research on range() functions and its parameters. Create a markdown cell and write in your own\n",
    "words (no copy-paste from google please) what you understand about it. Implement a small\n",
    "program of your choice on the same.__"
   ]
  },
  {
   "cell_type": "markdown",
   "metadata": {},
   "source": [
    "__Range()function:__<br>\n",
    "1.As the name suggest range function contain a range of data/number as given to it.<br>\n",
    "2.It has been use to store large number of number in range without typing all of it.<br>\n",
    "3.Syntax of range (start,stop,step).<br>\n",
    "\n"
   ]
  },
  {
   "cell_type": "code",
   "execution_count": 22,
   "metadata": {},
   "outputs": [
    {
     "name": "stdout",
     "output_type": "stream",
     "text": [
      "1 is a odd number\n",
      "2 is an even number\n",
      "3 is a odd number\n",
      "4 is an even number\n",
      "5 is a odd number\n",
      "6 is an even number\n",
      "7 is a odd number\n",
      "8 is an even number\n",
      "9 is a odd number\n",
      "10 is an even number\n",
      "11 is a odd number\n",
      "12 is an even number\n",
      "13 is a odd number\n",
      "14 is an even number\n",
      "15 is a odd number\n",
      "16 is an even number\n",
      "17 is a odd number\n",
      "18 is an even number\n",
      "19 is a odd number\n",
      "20 is an even number\n",
      "21 is a odd number\n",
      "22 is an even number\n",
      "23 is a odd number\n",
      "24 is an even number\n",
      "25 is a odd number\n",
      "26 is an even number\n",
      "27 is a odd number\n",
      "28 is an even number\n",
      "29 is a odd number\n",
      "30 is an even number\n",
      "31 is a odd number\n",
      "32 is an even number\n",
      "33 is a odd number\n",
      "34 is an even number\n",
      "35 is a odd number\n",
      "36 is an even number\n"
     ]
    }
   ],
   "source": [
    "even = range(1,37)#Here range function is use for number in 1 to 37. Note:37 is not include in range.\n",
    "for num in even:\n",
    "    if num%2==0:\n",
    "        print(num,\"is an even number\")\n",
    "    else:\n",
    "        print(num,\"is a odd number\")\n",
    "    \n",
    "    "
   ]
  },
  {
   "cell_type": "markdown",
   "metadata": {},
   "source": [
    "__3) Consider two numbers. Perform their subtraction and if the result of subtraction is greater than\n",
    "25, print their multiplication result else print their division result.__\n"
   ]
  },
  {
   "cell_type": "code",
   "execution_count": 30,
   "metadata": {},
   "outputs": [
    {
     "name": "stdout",
     "output_type": "stream",
     "text": [
      "Multiplication of 134 and 34 is 4556\n"
     ]
    }
   ],
   "source": [
    "a = 134\n",
    "b = 34\n",
    "c=a-b\n",
    "if c>25:\n",
    "    print(\"Multiplication of\", a ,\"and\" ,b ,\"is\", a * b)\n",
    "else:\n",
    "    print(\"Division of\", a ,\"and\" ,b ,\"is\", a/b)\n",
    "    "
   ]
  },
  {
   "cell_type": "markdown",
   "metadata": {},
   "source": [
    "__4)Consider a list of 10 elements of integer values. If the number in the list is divisible by 2, print the\n",
    "result as \"square of that number minus 2\".__"
   ]
  },
  {
   "cell_type": "code",
   "execution_count": 33,
   "metadata": {},
   "outputs": [
    {
     "name": "stdout",
     "output_type": "stream",
     "text": [
      "4354\n",
      "1557502\n",
      "9602\n",
      "3134\n",
      "57598\n",
      "142\n",
      "20539022\n"
     ]
    }
   ],
   "source": [
    "lst= [23,45,66,1248,98,56,240,12,57,4532]\n",
    "for num in lst:\n",
    "    if num%2==0:\n",
    "        print(num**2-2)"
   ]
  },
  {
   "cell_type": "markdown",
   "metadata": {},
   "source": [
    "__5)Consider a list of 10 elements. Print all the elements in the list which are greater than 7 when that\n",
    "number is divided 2.__"
   ]
  },
  {
   "cell_type": "code",
   "execution_count": 42,
   "metadata": {},
   "outputs": [
    {
     "name": "stdout",
     "output_type": "stream",
     "text": [
      "54\n",
      "48\n",
      "240\n"
     ]
    }
   ],
   "source": [
    "num= [2,54,67,48,89,5,240,4,7,45]\n",
    "for i in num:\n",
    "    if  i%2==0 and i>7:\n",
    "\n",
    "        print(i)\n"
   ]
  }
 ],
 "metadata": {
  "kernelspec": {
   "display_name": "Python 3",
   "language": "python",
   "name": "python3"
  },
  "language_info": {
   "codemirror_mode": {
    "name": "ipython",
    "version": 3
   },
   "file_extension": ".py",
   "mimetype": "text/x-python",
   "name": "python",
   "nbconvert_exporter": "python",
   "pygments_lexer": "ipython3",
   "version": "3.7.6"
  }
 },
 "nbformat": 4,
 "nbformat_minor": 4
}
